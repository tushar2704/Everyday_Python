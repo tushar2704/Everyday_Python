{
 "cells": [
  {
   "cell_type": "markdown",
   "metadata": {},
   "source": [
    "# Top 500 Python Interview Problems and Solutions\n",
    "\n",
    "##### © 2024 Tushar Aggarwal. All rights reserved.(https://tushar-aggarwal.com) \n",
    "##### Please visit Everyday_Python at https://github.com/tushar2704/Everyday_Python\n",
    "##### Streamlit Application https://everyday-python.streamlit.app/\n",
    "---\n"
   ]
  },
  {
   "cell_type": "code",
   "execution_count": 2,
   "metadata": {},
   "outputs": [],
   "source": [
    "#Importing Dependencies\n",
    "import pandas as pd\n",
    "import numpy as np"
   ]
  },
  {
   "cell_type": "markdown",
   "metadata": {},
   "source": [
    "---"
   ]
  },
  {
   "cell_type": "markdown",
   "metadata": {},
   "source": [
    "## Common Problems with Solutions"
   ]
  },
  {
   "cell_type": "markdown",
   "metadata": {},
   "source": [
    "---"
   ]
  },
  {
   "cell_type": "markdown",
   "metadata": {},
   "source": [
    "1) Write a Python function to check whether a givennumber is prime or not."
   ]
  },
  {
   "cell_type": "code",
   "execution_count": 8,
   "metadata": {},
   "outputs": [
    {
     "name": "stdout",
     "output_type": "stream",
     "text": [
      "True\n",
      "False\n"
     ]
    }
   ],
   "source": [
    "#Solution for python function to check whether a given number is prime or not.\n",
    "def is_prime(n):\n",
    "    \"\"\"\n",
    "    Check if a number is prime.\n",
    "    \"\"\"\n",
    "    if n < 2:\n",
    "        return False\n",
    "    for i in range(2, int(n**0.5) + 1):\n",
    "        if n % i == 0:\n",
    "            return False\n",
    "    return True\n",
    "\n",
    "# Example usage:\n",
    "print(is_prime(17))\n",
    "print(is_prime(4))"
   ]
  },
  {
   "cell_type": "markdown",
   "metadata": {},
   "source": [
    "----"
   ]
  },
  {
   "cell_type": "markdown",
   "metadata": {},
   "source": [
    "2) Write a Python function to find the largest continuous sum in a given list of integers."
   ]
  },
  {
   "cell_type": "code",
   "execution_count": 15,
   "metadata": {},
   "outputs": [
    {
     "data": {
      "text/plain": [
       "13"
      ]
     },
     "execution_count": 15,
     "metadata": {},
     "output_type": "execute_result"
    }
   ],
   "source": [
    "#Solution for function to find the largest continuous sum in a given list of integers.\n",
    "def largest_continuous_sum(numbers):\n",
    "    \"\"\"\n",
    "    Find the largest continuous sum in a list of integers.\n",
    "    \"\"\"\n",
    "    max_sum = 0\n",
    "    current_sum = 0\n",
    "    for num in numbers:\n",
    "        current_sum += num\n",
    "        if current_sum < 0:\n",
    "            current_sum = 0\n",
    "        elif current_sum > max_sum:\n",
    "            max_sum = current_sum\n",
    "    return max_sum\n",
    "\n",
    "\n",
    "\n",
    "# Example usage:\n",
    "print\n",
    "(largest_continuous_sum([1, 2, -1, 3, 4, -1, 5]))"
   ]
  }
 ],
 "metadata": {
  "kernelspec": {
   "display_name": "Python 3",
   "language": "python",
   "name": "python3"
  },
  "language_info": {
   "codemirror_mode": {
    "name": "ipython",
    "version": 3
   },
   "file_extension": ".py",
   "mimetype": "text/x-python",
   "name": "python",
   "nbconvert_exporter": "python",
   "pygments_lexer": "ipython3",
   "version": "3.10.0"
  }
 },
 "nbformat": 4,
 "nbformat_minor": 2
}
